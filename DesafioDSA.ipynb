{
 "cells": [
  {
   "cell_type": "markdown",
   "metadata": {},
   "source": [
    "# <font color='blue'>Data Science Academy - Machine Learning</font>\n",
    "\n",
    "# <font color='blue'>Desafio DSA</font>"
   ]
  },
  {
   "cell_type": "markdown",
   "metadata": {},
   "source": [
    "Esse Jupyter Notebook deve conter o código necessário para aplicar técnicas de regularização ao modelo de Machine Learning criado com Regressão Linear. As células onde devem conter o trecho de código estão vazias (apenas com os módulos que devem ser usados), mas mantivemos a saída esperada na célula. Consulte a documentação (fornecemos o link), crie o trecho de código, obtenha o resultado e compare com a solução proposta. "
   ]
  },
  {
   "cell_type": "markdown",
   "metadata": {},
   "source": [
    "Todo algoritmo de Machine Learning deve ter como objetivo a generalização, ou seja, ser capaz de receber novos conjuntos de dados e realizar as previsões com o maior nível possível de precisão. Para problemas de regressão, temos disponíveis diversas técnicas como Ridge, Lasso e ElasticNet, que buscam a melhor combinação de coeficientes através de técnicas de regularização. Seu objetivo é criar os trechos de código para este processo."
   ]
  },
  {
   "cell_type": "markdown",
   "metadata": {},
   "source": [
    "Propositalmente, removemos todos os comentários do Jupyter Notebook. Estude e compreenda o código em cada célula. "
   ]
  },
  {
   "cell_type": "code",
   "execution_count": 1,
   "metadata": {},
   "outputs": [],
   "source": [
    "import pandas as pd\n",
    "from sklearn.datasets import load_boston\n",
    "import warnings\n",
    "warnings.filterwarnings(\"ignore\")"
   ]
  },
  {
   "cell_type": "code",
   "execution_count": 2,
   "metadata": {},
   "outputs": [],
   "source": [
    "boston = load_boston() \n",
    "dataset = pd.DataFrame(boston.data, columns = boston.feature_names)\n",
    "dataset['target'] = boston.target\n",
    "observations = len(dataset)\n",
    "variables = dataset.columns[:-1]\n",
    "X = dataset.ix[:,:-1]\n",
    "y = dataset['target'].values"
   ]
  },
  {
   "cell_type": "code",
   "execution_count": 3,
   "metadata": {},
   "outputs": [
    {
     "name": "stdout",
     "output_type": "stream",
     "text": [
      "Tamanho do Dataset de Treino: 354\n",
      "Tamanho do Dataset de Teste: 152\n"
     ]
    }
   ],
   "source": [
    "from sklearn.cross_validation import train_test_split\n",
    "X_train, X_test, y_train, y_test = train_test_split(X, y, test_size = 0.30, random_state = 101)\n",
    "print (\"Tamanho do Dataset de Treino: %i\" % len(X_train))\n",
    "print (\"Tamanho do Dataset de Teste: %i\" % len(X_test))"
   ]
  },
  {
   "cell_type": "code",
   "execution_count": 4,
   "metadata": {},
   "outputs": [
    {
     "name": "stdout",
     "output_type": "stream",
     "text": [
      "Tamamnho da Amostra do Dataset de Treino: 303\n",
      "Tamamnho da Amostra do Dataset de Validação: 101\n",
      "Tamamnho da Amostra do Dataset de Teste: 102\n"
     ]
    }
   ],
   "source": [
    "X_train, X_out_sample, y_train, y_out_sample = train_test_split(X, y, test_size = 0.40, random_state = 101)\n",
    "X_validation, X_test, y_validation, y_test = train_test_split(X_out_sample, y_out_sample, test_size = 0.50, random_state = 101)\n",
    "print (\"Tamamnho da Amostra do Dataset de Treino: %i\" % len(X_train))\n",
    "print (\"Tamamnho da Amostra do Dataset de Validação: %i\" % len(X_validation))\n",
    "print (\"Tamamnho da Amostra do Dataset de Teste: %i\" % len(X_test))"
   ]
  },
  {
   "cell_type": "code",
   "execution_count": 5,
   "metadata": {},
   "outputs": [],
   "source": [
    "from sklearn.cross_validation import cross_val_score, KFold, StratifiedKFold\n",
    "from sklearn.metrics import make_scorer\n",
    "from sklearn.preprocessing import PolynomialFeatures\n",
    "from sklearn.linear_model import LinearRegression\n",
    "import numpy as np\n",
    "\n",
    "def RMSE(y_true, y_pred):\n",
    "    return np.sum((y_true - y_pred)**2)\n",
    "\n",
    "lm = LinearRegression()\n",
    "cv_iterator = KFold(n = len(X), n_folds = 10, shuffle = True, random_state = 101)\n",
    "\n",
    "edges = np.histogram(y, bins = 5)[1]\n",
    "binning = np.digitize(y, edges)\n",
    "stratified_cv_iterator = StratifiedKFold(binning, n_folds = 10, shuffle = True, random_state = 101)\n",
    "\n",
    "second_order = PolynomialFeatures(degree = 2, interaction_only = False)\n",
    "third_order = PolynomialFeatures(degree = 3, interaction_only = True)\n",
    "\n",
    "over_param_X = second_order.fit_transform(X)\n",
    "extra_over_param_X = third_order.fit_transform(X)\n",
    "cv_score = cross_val_score(lm, over_param_X, y, cv = cv_iterator, scoring = 'mean_squared_error', n_jobs = 1)"
   ]
  },
  {
   "cell_type": "code",
   "execution_count": 6,
   "metadata": {},
   "outputs": [
    {
     "name": "stdout",
     "output_type": "stream",
     "text": [
      "[-12.80006826 -20.16124409  -8.77421975 -19.68028923 -11.66012303\n",
      "  -7.67918749 -12.82851349 -18.18670763 -35.08897199 -14.23988323]\n"
     ]
    }
   ],
   "source": [
    "print (cv_score)"
   ]
  },
  {
   "cell_type": "code",
   "execution_count": 7,
   "metadata": {},
   "outputs": [
    {
     "name": "stdout",
     "output_type": "stream",
     "text": [
      "Cv score: mean 16.110 std 7.507\n"
     ]
    }
   ],
   "source": [
    "print ('Cv score: mean %0.3f std %0.3f' % (np.mean(np.abs(cv_score)), np.std(cv_score)))"
   ]
  },
  {
   "cell_type": "code",
   "execution_count": 8,
   "metadata": {},
   "outputs": [
    {
     "name": "stdout",
     "output_type": "stream",
     "text": [
      "Cv score: mean 15.631 std 7.461\n"
     ]
    }
   ],
   "source": [
    "cv_score = cross_val_score(lm, over_param_X, y, cv = stratified_cv_iterator, scoring = 'mean_squared_error', n_jobs = 1)\n",
    "print ('Cv score: mean %0.3f std %0.3f' % (np.mean(np.abs(cv_score)), np.std(cv_score)))"
   ]
  },
  {
   "cell_type": "markdown",
   "metadata": {},
   "source": [
    "Métricas de Avaliação"
   ]
  },
  {
   "cell_type": "markdown",
   "metadata": {},
   "source": [
    "http://scikit-learn.org/stable/modules/model_evaluation.html"
   ]
  },
  {
   "cell_type": "markdown",
   "metadata": {},
   "source": [
    "## Regularização"
   ]
  },
  {
   "cell_type": "markdown",
   "metadata": {},
   "source": [
    "### Ridge"
   ]
  },
  {
   "cell_type": "markdown",
   "metadata": {},
   "source": [
    "http://scikit-learn.org/stable/modules/generated/sklearn.linear_model.Ridge.html"
   ]
  },
  {
   "cell_type": "code",
   "execution_count": 9,
   "metadata": {},
   "outputs": [],
   "source": [
    "from sklearn.linear_model import Ridge\n"
   ]
  },
  {
   "cell_type": "code",
   "execution_count": null,
   "metadata": {},
   "outputs": [],
   "source": []
  },
  {
   "cell_type": "code",
   "execution_count": 10,
   "metadata": {},
   "outputs": [
    {
     "ename": "SyntaxError",
     "evalue": "invalid syntax (<ipython-input-10-b70574b06030>, line 1)",
     "output_type": "error",
     "traceback": [
      "\u001b[0;36m  File \u001b[0;32m\"<ipython-input-10-b70574b06030>\"\u001b[0;36m, line \u001b[0;32m1\u001b[0m\n\u001b[0;31m    print ('Média dos Coeficientes: Não-regularizado = %0.3f Ridge = %0.3f' % )\u001b[0m\n\u001b[0m                                                                              ^\u001b[0m\n\u001b[0;31mSyntaxError\u001b[0m\u001b[0;31m:\u001b[0m invalid syntax\n"
     ]
    }
   ],
   "source": [
    "print ('Média dos Coeficientes: Não-regularizado = %0.3f Ridge = %0.3f' % )\n",
    "print ('Coeficiente Mínimo: Não-regularizado = %0.3f Ridge = %0.3f' % )\n",
    "print ('Coeficiente Máximo: Não-regularizado = %0.3f Ridge = %0.3f' % )"
   ]
  },
  {
   "cell_type": "markdown",
   "metadata": {},
   "source": [
    "### Lasso"
   ]
  },
  {
   "cell_type": "markdown",
   "metadata": {},
   "source": [
    "http://scikit-learn.org/stable/modules/generated/sklearn.linear_model.Lasso.html"
   ]
  },
  {
   "cell_type": "code",
   "execution_count": null,
   "metadata": {},
   "outputs": [],
   "source": [
    "from sklearn.linear_model import Lasso\n"
   ]
  },
  {
   "cell_type": "code",
   "execution_count": null,
   "metadata": {},
   "outputs": [],
   "source": [
    "from sklearn.grid_search import RandomizedSearchCV\n",
    "from scipy.stats import expon\n",
    "\n",
    "print ('Melhor valor de alpha: %0.5f' % )\n",
    "print ('Melhor CV mean squared error: %0.3f' % )"
   ]
  },
  {
   "cell_type": "code",
   "execution_count": null,
   "metadata": {},
   "outputs": [],
   "source": [
    "print ('Coeficients com valor igual a zero: %i de %i' % )"
   ]
  },
  {
   "cell_type": "code",
   "execution_count": null,
   "metadata": {},
   "outputs": [],
   "source": [
    "from sklearn.linear_model import LassoCV\n",
    "\n",
    "print ('Melhor valor de alpha: %0.5f' % )"
   ]
  },
  {
   "cell_type": "markdown",
   "metadata": {},
   "source": [
    "### Elasticnet"
   ]
  },
  {
   "cell_type": "markdown",
   "metadata": {},
   "source": [
    "http://scikit-learn.org/stable/modules/generated/sklearn.linear_model.ElasticNet.html"
   ]
  },
  {
   "cell_type": "code",
   "execution_count": null,
   "metadata": {},
   "outputs": [],
   "source": [
    "from sklearn.linear_model import ElasticNet\n",
    "from sklearn.grid_search import RandomizedSearchCV\n",
    "from scipy.stats import expon\n",
    "\n",
    "print ('Melhor valor de alpha: %0.5f' % )\n",
    "print ('Melhor L1_ratio: %0.5f' % )\n",
    "print ('Melhor CV mean squared error: %0.3f' % )"
   ]
  },
  {
   "cell_type": "code",
   "execution_count": null,
   "metadata": {},
   "outputs": [],
   "source": [
    "print ('Coeficients com valor igual a zero: %i de %i' % )"
   ]
  },
  {
   "cell_type": "code",
   "execution_count": null,
   "metadata": {},
   "outputs": [],
   "source": [
    "from sklearn.linear_model import ElasticNetCV\n",
    "\n",
    "print ('Melhor valor de alpha: %0.5f' % )\n",
    "print ('Melhor L1_ratio: %0.5f' % )"
   ]
  },
  {
   "cell_type": "markdown",
   "metadata": {},
   "source": [
    "# Fim"
   ]
  },
  {
   "cell_type": "markdown",
   "metadata": {},
   "source": [
    "### Obrigado - Data Science Academy - <a href=\"http://facebook.com/dsacademybr\">facebook.com/dsacademybr</a>"
   ]
  }
 ],
 "metadata": {
  "anaconda-cloud": {},
  "kernelspec": {
   "display_name": "Python 3",
   "language": "python",
   "name": "python3"
  },
  "language_info": {
   "codemirror_mode": {
    "name": "ipython",
    "version": 3
   },
   "file_extension": ".py",
   "mimetype": "text/x-python",
   "name": "python",
   "nbconvert_exporter": "python",
   "pygments_lexer": "ipython3",
   "version": "3.6.5"
  }
 },
 "nbformat": 4,
 "nbformat_minor": 1
}
